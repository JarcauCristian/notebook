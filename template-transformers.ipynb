{
 "cells": [
  {
   "cell_type": "markdown",
   "metadata": {
    "deletable": false,
    "editable": false
   },
   "source": [
    "# Code of Conduct for Jupyter Notebook Template Usage\n",
    "\n",
    "## Introduction\n",
    "\n",
    "Welcome to our Jupyter Notebook environment. To ensure a productive and respectful environment, we have established a few ground rules. Please adhere to this Code of Conduct when using our Jupyter Notebook templates.\n",
    "\n",
    "## Guidelines\n",
    "\n",
    "### 1. **Notebook Structure**\n",
    "   - This notebook has a specifc structure that should be respected and not to be tempered with.\n",
    "\n",
    "### 2. **Integrity in Coding**\n",
    "   - Write clear, commented, and understandable code.\n",
    "   - Acknowledge and credit external sources or contributions.\n",
    "\n",
    "### 3. **Data Privacy and Security**\n",
    "   - Handle sensitive data responsibly.\n",
    "   - Do not share confidential information without proper authorization.\n",
    "\n",
    "### 4. **Collaboration and Sharing**\n",
    "   - Collaborate effectively with others.\n",
    "   - Share knowledge and help fellow users when possible.\n",
    "\n",
    "### 5. **Responsible Resource Usage**\n",
    "   - Use computational resources judiciously.\n",
    "   - Avoid unnecessary computational tasks that can overload the system.\n",
    "\n",
    "## Notebook Structure\n",
    "\n",
    "This Notebook is split in three parts:\n",
    "   - The First Part is a cell that gets and loads the data that was selected beforehand. (This cell needs only to be run, **not modified**.)\n",
    "   - The Second Part is a cell in which the preparation for data is done. (This cell can be modified, but only to prepare the data in format for a specific ML model, not to make any other modifications on the data.)\n",
    "   - The Third Part is compose of three cells. \n",
    "      - The first cell can be modified to prepare the model for training and train it.\n",
    "      - The second cell can be modified to save the metrics in a json file, and the metrics shoud be saved as key value pair.\n",
    "      - The third cell can't be modified, in this cell the saving of the model and metrics is realized.\n",
    "\n",
    "   - Also at the begging of the notebook is a cell in which additional modules can be added, put only from standard library, **other modules can not be installed**.\n",
    "\n",
    "## Reporting Issues\n",
    "\n",
    "If you encounter any issues or observe violations of this Code of Conduct, please report them to [jarcau.stefan.cristian@gmail.com](jarcau.stefan.cristian@gmail.com).\n",
    "\n",
    "## Conclusion\n",
    "\n",
    "By adhering to these guidelines, we can maintain a healthy, productive, and welcoming environment for all users. Thank you for your cooperation and happy coding!\n"
   ]
  },
  {
   "cell_type": "markdown",
   "metadata": {
    "deletable": false,
    "editable": false
   },
   "source": [
    "# Importing Modules"
   ]
  },
  {
   "cell_type": "code",
   "execution_count": null,
   "metadata": {
    "deletable": false
   },
   "outputs": [],
   "source": [
    "import numpy as np\n",
    "from transformers import AutoModelForObjectDetection, TrainingArguments, Trainer, AutoImageProcessor"
   ]
  },
  {
   "cell_type": "markdown",
   "metadata": {
    "deletable": false,
    "editable": false
   },
   "source": [
    "# Loading the Data (First Run This Cell To Bring the Selected Data)"
   ]
  },
  {
   "cell_type": "code",
   "execution_count": null,
   "metadata": {
    "deletable": false,
    "editable": false
   },
   "outputs": [],
   "source": [
    "import io\n",
    "import os\n",
    "import requests\n",
    "import pandas as pd\n",
    "\n",
    "url = os.getenv(\"DATASET_URL\")\n",
    "api = os.getenv(\"API\")\n",
    "\n",
    "response = requests.get(api + f\"?path={url}\")\n",
    "\n",
    "if response.status_code == 200:\n",
    "    df = pd.read_csv(io.StringIO(response.content.decode('utf-8')))\n",
    "\n",
    "df.to_csv(\"./temp_file.csv\", index=False)\n",
    "\n",
    "df.head()"
   ]
  },
  {
   "cell_type": "markdown",
   "metadata": {
    "deletable": false,
    "editable": false
   },
   "source": [
    "# Data Preparation"
   ]
  },
  {
   "cell_type": "code",
   "execution_count": null,
   "metadata": {
    "deletable": false
   },
   "outputs": [],
   "source": [
    "# Make neccesary Modifications on the df dataframe defined above, but do not remove columns or rows, just reshape it."
   ]
  },
  {
   "cell_type": "markdown",
   "metadata": {
    "deletable": false,
    "editable": false
   },
   "source": [
    "# Model Training and Testing (At the end of the last block specify model name)"
   ]
  },
  {
   "cell_type": "code",
   "execution_count": null,
   "metadata": {
    "deletable": false
   },
   "outputs": [],
   "source": [
    "# In this cell any model from sklearn can be built the name of the variable that holds the model should be model\n",
    "\n",
    "tokenizer = AutoImageProcessor.from_pretrained(\"facebook/detr-resnet-50\")\n",
    "\n",
    "model = AutoModelForObjectDetection.from_pretrained(\n",
    "    \"facebook/detr-resnet-50\",\n",
    "    ignore_mismatched_sizes=True,\n",
    ")\n",
    "\n",
    "\n",
    "training_args = TrainingArguments(\n",
    "    output_dir=\"finetuned_model\",\n",
    "    per_device_train_batch_size=8,\n",
    "    num_train_epochs=10,\n",
    "    fp16=True,\n",
    "    save_steps=200,\n",
    "    logging_steps=50,\n",
    "    learning_rate=1e-5,\n",
    "    weight_decay=1e-4,\n",
    "    save_total_limit=1,\n",
    "    remove_unused_columns=False,\n",
    "    push_to_hub=True # Change to false if you want not to push it to hub, if left to true please login to huggingface\n",
    ")\n",
    "\n",
    "trainer = Trainer(\n",
    "    model=model,\n",
    "    args=training_args,\n",
    "    tokenizer=tokenizer,\n",
    ")\n",
    "\n",
    "trainer.train()"
   ]
  },
  {
   "cell_type": "code",
   "execution_count": null,
   "metadata": {},
   "outputs": [],
   "source": [
    "# Login to huggingface if you want to have the model pushed there as well\n",
    "!huggingface-cli login"
   ]
  },
  {
   "cell_type": "markdown",
   "metadata": {
    "deletable": false,
    "editable": false
   },
   "source": [
    "# Set Metrics and Model Parameters"
   ]
  },
  {
   "cell_type": "code",
   "execution_count": null,
   "metadata": {
    "deletable": false
   },
   "outputs": [],
   "source": [
    "#In this cell please put the metrics that result from the training and testing of the model inside the metrics dict (the metrics should be the key string and the value float), then run the cell\n",
    "import json\n",
    "\n",
    "metrics = {\n",
    "    \"\": 0.0\n",
    "}\n",
    "\n",
    "params = {\n",
    "    \"\": 0.0\n",
    "}\n",
    "\n",
    "model_name = \"\"\n",
    "\n",
    "with open(\"metrics.json\", \"w\") as metrics_file:\n",
    "    json.dump(metrics, metrics_file, indent=4)\n",
    "\n",
    "with open(\"params.json\", \"w\") as params_file:\n",
    "    json.dump(params, params_file, indent=4)"
   ]
  },
  {
   "cell_type": "markdown",
   "metadata": {
    "deletable": false,
    "editable": false
   },
   "source": [
    "# Model Upload (!!!! Only run this cell once we have completed all the work !!!!)"
   ]
  },
  {
   "cell_type": "code",
   "execution_count": null,
   "metadata": {
    "deletable": false,
    "editable": false
   },
   "outputs": [],
   "source": [
    "#This cell will save the model and close the connection, please refresh the page.\n",
    "import subprocess\n",
    "\n",
    "def is_variable_defined(var_name):\n",
    "    return var_name in locals() or var_name in globals()\n",
    "\n",
    "try:\n",
    "    if model_name is not None and is_variable_defined(\"trainer\") and is_variable_defined(\"model\") and is_variable_defined(\"metrics\") and is_variable_defined(\"params\"):\n",
    "\n",
    "        result = subprocess.run(['python3', '/home/noprem/upload_transformers_to_mlflow.py', f'-n {model_name}', f'-a {model.config.architectures[0]}'], capture_output=True, text=True)\n",
    "\n",
    "        if result.stderr == \"\":\n",
    "            if model_name:\n",
    "                result_database = subprocess.run(['python3', '/home/noprem/save_to_postgres.py'], capture_output=True, text=True)\n",
    "            if result_database.stderr == \"\":\n",
    "                print(\"Success, Now you can close the page!\")\n",
    "            else:\n",
    "                print(\"Please check your code and try again!\")\n",
    "        else:\n",
    "            print(\"Please check your code and try again!\")\n",
    "except NameError as e:\n",
    "    print(\"Model is not defined! Please check your code and try again!\")\n"
   ]
  }
 ],
 "metadata": {
  "kernelspec": {
   "display_name": "Python 3",
   "language": "python",
   "name": "python3"
  },
  "language_info": {
   "codemirror_mode": {
    "name": "ipython",
    "version": 3
   },
   "file_extension": ".py",
   "mimetype": "text/x-python",
   "name": "python",
   "nbconvert_exporter": "python",
   "pygments_lexer": "ipython3",
   "version": "3.11.5"
  }
 },
 "nbformat": 4,
 "nbformat_minor": 2
}
