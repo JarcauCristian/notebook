{
 "cells": [
  {
   "cell_type": "markdown",
   "metadata": {
    "deletable": false,
    "editable": false
   },
   "source": [
    "# Code of Conduct for Jupyter Notebook Template Usage\n",
    "\n",
    "## Introduction\n",
    "\n",
    "Welcome to our Jupyter Notebook environment. To ensure a productive and respectful environment, we have established a few ground rules. Please adhere to this Code of Conduct when using our Jupyter Notebook templates.\n",
    "\n",
    "## Guidelines\n",
    "\n",
    "### 1. **Notebook Structure**\n",
    "   - This notebook has a specifc structure that should be respected and not to be tempered with.\n",
    "\n",
    "### 2. **Integrity in Coding**\n",
    "   - Write clear, commented, and understandable code.\n",
    "   - Acknowledge and credit external sources or contributions.\n",
    "\n",
    "### 3. **Data Privacy and Security**\n",
    "   - Handle sensitive data responsibly.\n",
    "   - Do not share confidential information without proper authorization.\n",
    "\n",
    "### 4. **Collaboration and Sharing**\n",
    "   - Collaborate effectively with others.\n",
    "   - Share knowledge and help fellow users when possible.\n",
    "\n",
    "### 5. **Responsible Resource Usage**\n",
    "   - Use computational resources judiciously.\n",
    "   - Avoid unnecessary computational tasks that can overload the system.\n",
    "\n",
    "## Notebook Structure\n",
    "\n",
    "This Notebook is split in three parts:\n",
    "   - The First Part is a cell that gets and loads the data that was selected beforehand. (This cell needs only to be run, **not modified**.)\n",
    "   - The Second Part is a cell in which the preparation for data is done. (This cell can be modified, but only to prepare the data in format for a specific ML model, not to make any other modifications on the data.)\n",
    "   - The Third Part is compose of three cells. \n",
    "      - The first cell can be modified to prepare the model for training and train it.\n",
    "      - The second cell can be modified to save the metrics in a json file, and the metrics shoud be saved as key value pair.\n",
    "      - The third cell can't be modified, in this cell the saving of the model and metrics is realized.\n",
    "\n",
    "   - Also at the begging of the notebook is a cell in which additional modules can be added, put only from standard library, **other modules can not be installed**.\n",
    "\n",
    "## Reporting Issues\n",
    "\n",
    "If you encounter any issues or observe violations of this Code of Conduct, please report them to [jarcau.stefan.cristian@gmail.com](jarcau.stefan.cristian@gmail.com).\n",
    "\n",
    "## Conclusion\n",
    "\n",
    "By adhering to these guidelines, we can maintain a healthy, productive, and welcoming environment for all users. Thank you for your cooperation and happy coding!\n"
   ]
  },
  {
   "cell_type": "markdown",
   "metadata": {
    "deletable": false,
    "editable": false
   },
   "source": [
    "# Importing Modules"
   ]
  },
  {
   "cell_type": "code",
   "execution_count": null,
   "metadata": {
    "deletable": false
   },
   "outputs": [],
   "source": [
    "import os\n",
    "import requests\n",
    "import numpy as np\n",
    "import sklearn\n",
    "import scipy\n",
    "import pandas as pd"
   ]
  },
  {
   "cell_type": "markdown",
   "metadata": {
    "deletable": false,
    "editable": false
   },
   "source": [
    "# Loading the Data (First Run This Cell To Bring the Selected Data)"
   ]
  },
  {
   "cell_type": "code",
   "execution_count": null,
   "metadata": {
    "deletable": false,
    "editable": false
   },
   "outputs": [],
   "source": [
    "url = os.getenv(\"DATASET_URL\")\n",
    "api = os.getenv(\"API\")\n",
    "\n",
    "response = requests.get(api + f\"?path={url}\")\n",
    "\n",
    "if response.status_code == 200:\n",
    "    filename = 'temp_file.csv'\n",
    "\n",
    "    with open(filename, 'wb') as file:\n",
    "        file.write(response.content)\n",
    "    print(f\"File downloaded and saved as {filename}\")\n",
    "else:\n",
    "    print(f\"Failed to download the file. Status code: {response.status_code}\")\n",
    "\n",
    "\n",
    "df = pd.read_csv(filename)\n",
    "\n",
    "df.head()"
   ]
  },
  {
   "cell_type": "markdown",
   "metadata": {
    "deletable": false,
    "editable": false
   },
   "source": [
    "# Data Preparation"
   ]
  },
  {
   "cell_type": "code",
   "execution_count": null,
   "metadata": {
    "deletable": false
   },
   "outputs": [],
   "source": [
    "# Make neccesary Modifications on the df dataframe defined above, but do not remove columns or rows, just reshape it."
   ]
  },
  {
   "cell_type": "markdown",
   "metadata": {
    "deletable": false,
    "editable": false
   },
   "source": [
    "# Model Training and Testing (At the end of the last block specify model name)"
   ]
  },
  {
   "cell_type": "code",
   "execution_count": null,
   "metadata": {},
   "outputs": [],
   "source": []
  },
  {
   "cell_type": "code",
   "execution_count": null,
   "metadata": {
    "deletable": false
   },
   "outputs": [],
   "source": [
    "# In this cell any model from sklearn can be built the name of the variable that holds the model should be model\n",
    "model = sklearn.linear_model.LinearRegression()\n",
    "\n",
    "model.fit()\n",
    "\n",
    "model_name = \"\""
   ]
  },
  {
   "cell_type": "markdown",
   "metadata": {
    "deletable": false,
    "editable": false
   },
   "source": [
    "# Set Metrics and Model Parameters"
   ]
  },
  {
   "cell_type": "code",
   "execution_count": null,
   "metadata": {
    "deletable": false
   },
   "outputs": [],
   "source": [
    "#In this cell please put the metrics that result from the training and testing of the model inside the metrics dict (the metrics should be the key string and the value float), then run the cell\n",
    "import json\n",
    "\n",
    "metrics = {\n",
    "    \"\": 0.0\n",
    "}\n",
    "\n",
    "params = {\n",
    "    \"\": 0.0\n",
    "}\n",
    "\n",
    "with open(\"metrics.json\", \"w\") as metrics_file:\n",
    "    json.dump(metrics, metrics_file, indent=4)\n",
    "\n",
    "with open(\"params.json\", \"w\") as params_file:\n",
    "    json.dump(params, params_file, indent=4)"
   ]
  },
  {
   "cell_type": "markdown",
   "metadata": {
    "deletable": false,
    "editable": false
   },
   "source": [
    "# Model Upload (!!!! Only run this cell once we have completed all the work !!!!)"
   ]
  },
  {
   "cell_type": "code",
   "execution_count": null,
   "metadata": {
    "deletable": false,
    "editable": false
   },
   "outputs": [],
   "source": [
    "#This cell will save the model and close the connection, please refresh the page.\n",
    "import subprocess\n",
    "import joblib\n",
    "\n",
    "try:\n",
    "    joblib.dump(model, \"model_to_upload.pkl\")\n",
    "\n",
    "    if model_name is not None:\n",
    "\n",
    "        result = subprocess.run(['python3', '/home/noprem/upload_to_mlflow.py', f'-n {model_name}'], capture_output=True, text=True)\n",
    "\n",
    "        if result.stderr == \"\":\n",
    "            if model_name\n",
    "            result_database = subprocess.run(['python3', '/home/noprem/save_to_postgres.py'], capture_output=True, text=True)\n",
    "            if result_database.stderr == \"\":\n",
    "                print(\"Success, Now you can close the page!\")\n",
    "            else:\n",
    "                print(\"Please check your code and try again!\")\n",
    "        else:\n",
    "            print(\"Please check your code and try again!\")\n",
    "except NameError as e:\n",
    "    print(\"Model is not defined! Please check your code and try again!\")\n"
   ]
  }
 ],
 "metadata": {
  "kernelspec": {
   "display_name": "Python 3",
   "language": "python",
   "name": "python3"
  },
  "language_info": {
   "codemirror_mode": {
    "name": "ipython",
    "version": 3
   },
   "file_extension": ".py",
   "mimetype": "text/x-python",
   "name": "python",
   "nbconvert_exporter": "python",
   "pygments_lexer": "ipython3",
   "version": "3.11.5"
  }
 },
 "nbformat": 4,
 "nbformat_minor": 2
}
